{
 "cells": [
  {
   "cell_type": "code",
   "execution_count": 2,
   "id": "a4377e42",
   "metadata": {},
   "outputs": [
    {
     "ename": "ImportError",
     "evalue": "cannot import name 'load_chroma' from 'rag.chroma_db' (C:\\GITHUB CODES\\stock-predictor-ml\\src\\rag\\chroma_db.py)",
     "output_type": "error",
     "traceback": [
      "\u001b[31m---------------------------------------------------------------------------\u001b[39m",
      "\u001b[31mImportError\u001b[39m                               Traceback (most recent call last)",
      "\u001b[36mCell\u001b[39m\u001b[36m \u001b[39m\u001b[32mIn[2]\u001b[39m\u001b[32m, line 6\u001b[39m\n\u001b[32m      3\u001b[39m repo_root = \u001b[33mr\u001b[39m\u001b[33m\"\u001b[39m\u001b[33mC:\u001b[39m\u001b[33m\\\u001b[39m\u001b[33mGITHUB CODES\u001b[39m\u001b[33m\\\u001b[39m\u001b[33mstock-predictor-ml\u001b[39m\u001b[33m\"\u001b[39m\n\u001b[32m      4\u001b[39m sys.path.append(os.path.join(repo_root, \u001b[33m\"\u001b[39m\u001b[33msrc\u001b[39m\u001b[33m\"\u001b[39m))\n\u001b[32m----> \u001b[39m\u001b[32m6\u001b[39m \u001b[38;5;28;01mfrom\u001b[39;00m\u001b[38;5;250m \u001b[39m\u001b[34;01mrag\u001b[39;00m\u001b[34;01m.\u001b[39;00m\u001b[34;01mchroma_db\u001b[39;00m\u001b[38;5;250m \u001b[39m\u001b[38;5;28;01mimport\u001b[39;00m build_chroma, load_chroma, similarity_search\n\u001b[32m      7\u001b[39m \u001b[38;5;28;01mfrom\u001b[39;00m\u001b[38;5;250m \u001b[39m\u001b[34;01mlangchain_core\u001b[39;00m\u001b[34;01m.\u001b[39;00m\u001b[34;01mdocuments\u001b[39;00m\u001b[38;5;250m \u001b[39m\u001b[38;5;28;01mimport\u001b[39;00m Document\n",
      "\u001b[31mImportError\u001b[39m: cannot import name 'load_chroma' from 'rag.chroma_db' (C:\\GITHUB CODES\\stock-predictor-ml\\src\\rag\\chroma_db.py)"
     ]
    }
   ],
   "source": [
    "import os, sys\n",
    "# change this to the absolute path of your repo root if needed\n",
    "repo_root = r\"C:\\GITHUB CODES\\stock-predictor-ml\"\n",
    "sys.path.append(os.path.join(repo_root, \"src\"))\n",
    "\n",
    "from rag.chroma_db import build_chroma, load_chroma, similarity_search\n",
    "from langchain_core.documents import Document\n"
   ]
  },
  {
   "cell_type": "code",
   "execution_count": 1,
   "id": "9fd0195a",
   "metadata": {},
   "outputs": [
    {
     "ename": "ModuleNotFoundError",
     "evalue": "No module named 'src'",
     "output_type": "error",
     "traceback": [
      "\u001b[31m---------------------------------------------------------------------------\u001b[39m",
      "\u001b[31mModuleNotFoundError\u001b[39m                       Traceback (most recent call last)",
      "\u001b[36mCell\u001b[39m\u001b[36m \u001b[39m\u001b[32mIn[1]\u001b[39m\u001b[32m, line 2\u001b[39m\n\u001b[32m      1\u001b[39m \u001b[38;5;28;01mfrom\u001b[39;00m\u001b[38;5;250m \u001b[39m\u001b[34;01mlangchain_core\u001b[39;00m\u001b[34;01m.\u001b[39;00m\u001b[34;01mdocuments\u001b[39;00m\u001b[38;5;250m \u001b[39m\u001b[38;5;28;01mimport\u001b[39;00m Document\n\u001b[32m----> \u001b[39m\u001b[32m2\u001b[39m \u001b[38;5;28;01mfrom\u001b[39;00m\u001b[38;5;250m \u001b[39m\u001b[34;01msrc\u001b[39;00m\u001b[34;01m.\u001b[39;00m\u001b[34;01mrag\u001b[39;00m\u001b[34;01m.\u001b[39;00m\u001b[34;01mchroma_db\u001b[39;00m\u001b[38;5;250m \u001b[39m\u001b[38;5;28;01mimport\u001b[39;00m build_chroma, load_chroma, similarity_search\n\u001b[32m      4\u001b[39m docs = [\n\u001b[32m      5\u001b[39m     Document(page_content=\u001b[33m\"\u001b[39m\u001b[33mTITAN jewellery margins guided higher; management positive on H2.\u001b[39m\u001b[33m\"\u001b[39m,\n\u001b[32m      6\u001b[39m              metadata={\u001b[33m\"\u001b[39m\u001b[33mticker\u001b[39m\u001b[33m\"\u001b[39m:\u001b[33m\"\u001b[39m\u001b[33mTITAN\u001b[39m\u001b[33m\"\u001b[39m,\u001b[33m\"\u001b[39m\u001b[33msource\u001b[39m\u001b[33m\"\u001b[39m:\u001b[33m\"\u001b[39m\u001b[33mtitan_q1fy26_concall.pdf\u001b[39m\u001b[33m\"\u001b[39m,\u001b[33m\"\u001b[39m\u001b[33mpage\u001b[39m\u001b[33m\"\u001b[39m:\u001b[32m12\u001b[39m,\u001b[33m\"\u001b[39m\u001b[33msource_type\u001b[39m\u001b[33m\"\u001b[39m:\u001b[33m\"\u001b[39m\u001b[33mconcall\u001b[39m\u001b[33m\"\u001b[39m}),\n\u001b[32m      7\u001b[39m     Document(page_content=\u001b[33m\"\u001b[39m\u001b[33mCredit rating outlook stable; leverage within thresholds.\u001b[39m\u001b[33m\"\u001b[39m,\n\u001b[32m      8\u001b[39m              metadata={\u001b[33m\"\u001b[39m\u001b[33mticker\u001b[39m\u001b[33m\"\u001b[39m:\u001b[33m\"\u001b[39m\u001b[33mTITAN\u001b[39m\u001b[33m\"\u001b[39m,\u001b[33m\"\u001b[39m\u001b[33msource\u001b[39m\u001b[33m\"\u001b[39m:\u001b[33m\"\u001b[39m\u001b[33mcrisil_titan_2025.pdf\u001b[39m\u001b[33m\"\u001b[39m,\u001b[33m\"\u001b[39m\u001b[33mpage\u001b[39m\u001b[33m\"\u001b[39m:\u001b[32m3\u001b[39m,\u001b[33m\"\u001b[39m\u001b[33msource_type\u001b[39m\u001b[33m\"\u001b[39m:\u001b[33m\"\u001b[39m\u001b[33mcredit_rating\u001b[39m\u001b[33m\"\u001b[39m}),\n\u001b[32m      9\u001b[39m ]\n\u001b[32m     10\u001b[39m db = build_chroma(docs, persist_dir=\u001b[33m\"\u001b[39m\u001b[33mdata/research/index\u001b[39m\u001b[33m\"\u001b[39m)\n",
      "\u001b[31mModuleNotFoundError\u001b[39m: No module named 'src'"
     ]
    }
   ],
   "source": [
    "from langchain_core.documents import Document\n",
    "from src.rag.chroma_db import build_chroma, load_chroma, similarity_search\n",
    "\n",
    "docs = [\n",
    "    Document(page_content=\"TITAN jewellery margins guided higher; management positive on H2.\",\n",
    "             metadata={\"ticker\":\"TITAN\",\"source\":\"titan_q1fy26_concall.pdf\",\"page\":12,\"source_type\":\"concall\"}),\n",
    "    Document(page_content=\"Credit rating outlook stable; leverage within thresholds.\",\n",
    "             metadata={\"ticker\":\"TITAN\",\"source\":\"crisil_titan_2025.pdf\",\"page\":3,\"source_type\":\"credit_rating\"}),\n",
    "]\n",
    "db = build_chroma(docs, persist_dir=\"data/research/index\")\n",
    "\n",
    "db2 = load_chroma(\"data/research/index\")\n",
    "hits = similarity_search(db2, \"margin guidance jewellery\", k=3, where={\"ticker\":\"TITAN\"})\n",
    "for h in hits:\n",
    "    print(h.metadata, h.page_content[:80])\n"
   ]
  },
  {
   "cell_type": "code",
   "execution_count": null,
   "id": "0c09cc27",
   "metadata": {},
   "outputs": [],
   "source": []
  }
 ],
 "metadata": {
  "kernelspec": {
   "display_name": "Python (venv)",
   "language": "python",
   "name": "venv"
  },
  "language_info": {
   "codemirror_mode": {
    "name": "ipython",
    "version": 3
   },
   "file_extension": ".py",
   "mimetype": "text/x-python",
   "name": "python",
   "nbconvert_exporter": "python",
   "pygments_lexer": "ipython3",
   "version": "3.12.6"
  }
 },
 "nbformat": 4,
 "nbformat_minor": 5
}
